{
 "cells": [
  {
   "cell_type": "markdown",
   "id": "54b78ae9",
   "metadata": {},
   "source": [
    "## Converts the .pkl saved data to multiple .csv files for easier access"
   ]
  },
  {
   "cell_type": "code",
   "execution_count": 50,
   "id": "33d730b0",
   "metadata": {},
   "outputs": [],
   "source": [
    "import csv\n",
    "import pickle as pkl\n",
    "import orlab as ol"
   ]
  },
  {
   "cell_type": "code",
   "execution_count": 51,
   "id": "1d0d2149",
   "metadata": {},
   "outputs": [],
   "source": [
    "def unpickler(path):\n",
    "    with open(path, 'rb') as file:\n",
    "        return pkl.load(file)"
   ]
  },
  {
   "cell_type": "code",
   "execution_count": 52,
   "id": "b8375f7a",
   "metadata": {},
   "outputs": [],
   "source": [
    "trap_data = unpickler('./Data Files/Trapezoidal/trap_monte_carlo_data.pkl')\n",
    "trap_events = unpickler('./Data Files/Trapezoidal/trap_monte_carlo_events.pkl')\n",
    "\n",
    "ellip_data = unpickler('./Data Files/Elliptical/ellip_monte_carlo_data.pkl')\n",
    "ellip_events = unpickler('./Data Files/Elliptical/ellip_monte_carlo_events.pkl')\n",
    "\n",
    "swept_data = unpickler('./Data Files/Swept/swept_monte_carlo_data.pkl')\n",
    "swept_events = unpickler('./Data Files/Swept/swept_monte_carlo_events.pkl')\n",
    "\n",
    "tapswept_data = unpickler('./Data Files/Tapered Swept/tapered_swept_monte_carlo_data.pkl')\n",
    "tapswept_events = unpickler('./Data Files/Tapered Swept/tapered_swept_monte_carlo_events.pkl')"
   ]
  },
  {
   "cell_type": "code",
   "execution_count": 53,
   "id": "38d35a33",
   "metadata": {},
   "outputs": [],
   "source": [
    "def data_writer(data: list, key: ol.FlightDataType, path: str):\n",
    "    with open(path, 'w', newline='') as file:\n",
    "        writer = csv.writer(file)\n",
    "        for results in data:\n",
    "            row = results[key]\n",
    "            writer.writerow(row)\n"
   ]
  },
  {
   "cell_type": "code",
   "execution_count": 54,
   "id": "48f491ad",
   "metadata": {},
   "outputs": [
    {
     "name": "stdout",
     "output_type": "stream",
     "text": [
      "FlightDataType.TYPE_TIME\n",
      "FlightDataType.TYPE_ALTITUDE\n",
      "FlightDataType.TYPE_VELOCITY_TOTAL\n",
      "FlightDataType.TYPE_ACCELERATION_TOTAL\n",
      "FlightDataType.TYPE_STABILITY\n"
     ]
    }
   ],
   "source": [
    "for key in trap_data[0].keys():\n",
    "    print(key)"
   ]
  },
  {
   "cell_type": "markdown",
   "id": "74ef238f",
   "metadata": {},
   "source": [
    "Saving times"
   ]
  },
  {
   "cell_type": "code",
   "execution_count": 55,
   "id": "c9de80bb",
   "metadata": {},
   "outputs": [],
   "source": [
    "data_writer(trap_data, ol.FlightDataType.TYPE_TIME, './Data Files/Trapezoidal/trap_times.csv')\n",
    "data_writer(ellip_data, ol.FlightDataType.TYPE_TIME, './Data Files/Elliptical/ellip_times.csv')\n",
    "data_writer(swept_data, ol.FlightDataType.TYPE_TIME, './Data Files/Swept/swept_times.csv')\n",
    "data_writer(tapswept_data, ol.FlightDataType.TYPE_TIME, './Data Files/Tapered Swept/tapered_swept_times.csv')"
   ]
  },
  {
   "cell_type": "markdown",
   "id": "45301c93",
   "metadata": {},
   "source": [
    "Saving altitudes"
   ]
  },
  {
   "cell_type": "code",
   "execution_count": 56,
   "id": "da768a91",
   "metadata": {},
   "outputs": [],
   "source": [
    "data_writer(trap_data, ol.FlightDataType.TYPE_ALTITUDE, './Data Files/Trapezoidal/trap_altitudes.csv')\n",
    "data_writer(ellip_data, ol.FlightDataType.TYPE_ALTITUDE, './Data Files/Elliptical/ellip_altitudes.csv')\n",
    "data_writer(swept_data, ol.FlightDataType.TYPE_ALTITUDE, './Data Files/Swept/swept_altitudes.csv')\n",
    "data_writer(tapswept_data, ol.FlightDataType.TYPE_ALTITUDE, './Data Files/Tapered Swept/tapered_swept_altitudes.csv')"
   ]
  },
  {
   "cell_type": "markdown",
   "id": "4b761193",
   "metadata": {},
   "source": [
    "Saving velocities"
   ]
  },
  {
   "cell_type": "code",
   "execution_count": 57,
   "id": "0c5d83c8",
   "metadata": {},
   "outputs": [],
   "source": [
    "data_writer(trap_data, ol.FlightDataType.TYPE_VELOCITY_TOTAL, './Data Files/Trapezoidal/trap_velocities.csv')\n",
    "data_writer(ellip_data, ol.FlightDataType.TYPE_VELOCITY_TOTAL, './Data Files/Elliptical/ellip_velocities.csv')\n",
    "data_writer(swept_data, ol.FlightDataType.TYPE_VELOCITY_TOTAL, './Data Files/Swept/swept_velocities.csv')\n",
    "data_writer(tapswept_data, ol.FlightDataType.TYPE_VELOCITY_TOTAL, './Data Files/Tapered Swept/tapered_swept_velocities.csv')"
   ]
  },
  {
   "cell_type": "markdown",
   "id": "1f9f8d0c",
   "metadata": {},
   "source": [
    "Saving accelerations"
   ]
  },
  {
   "cell_type": "code",
   "execution_count": 58,
   "id": "01fcb338",
   "metadata": {},
   "outputs": [],
   "source": [
    "data_writer(trap_data, ol.FlightDataType.TYPE_ACCELERATION_TOTAL, './Data Files/Trapezoidal/trap_accelerations.csv')\n",
    "data_writer(ellip_data, ol.FlightDataType.TYPE_ACCELERATION_TOTAL, './Data Files/Elliptical/ellip_accelerations.csv')\n",
    "data_writer(swept_data, ol.FlightDataType.TYPE_ACCELERATION_TOTAL, './Data Files/Swept/swept_accelerations.csv')\n",
    "data_writer(tapswept_data, ol.FlightDataType.TYPE_ACCELERATION_TOTAL, './Data Files/Tapered Swept/tapered_swept_accelerations.csv')"
   ]
  },
  {
   "cell_type": "markdown",
   "id": "81e5f26d",
   "metadata": {},
   "source": [
    "Saving stabilities"
   ]
  },
  {
   "cell_type": "code",
   "execution_count": 59,
   "id": "6f99774e",
   "metadata": {},
   "outputs": [],
   "source": [
    "data_writer(trap_data, ol.FlightDataType.TYPE_STABILITY, './Data Files/Trapezoidal/trap_stabilities.csv')\n",
    "data_writer(ellip_data, ol.FlightDataType.TYPE_STABILITY, './Data Files/Elliptical/ellip_stabilities.csv')\n",
    "data_writer(swept_data, ol.FlightDataType.TYPE_STABILITY, './Data Files/Swept/swept_stabilities.csv')\n",
    "data_writer(tapswept_data, ol.FlightDataType.TYPE_STABILITY, './Data Files/Tapered Swept/tapered_swept_stabilities.csv')"
   ]
  },
  {
   "cell_type": "markdown",
   "id": "00220085",
   "metadata": {},
   "source": [
    "Now saving events"
   ]
  },
  {
   "cell_type": "code",
   "execution_count": 60,
   "id": "f0f54a2d",
   "metadata": {},
   "outputs": [
    {
     "name": "stdout",
     "output_type": "stream",
     "text": [
      "FlightEvent.LAUNCH\n",
      "FlightEvent.IGNITION\n",
      "FlightEvent.LIFTOFF\n",
      "FlightEvent.LAUNCHROD\n",
      "FlightEvent.BURNOUT\n",
      "FlightEvent.APOGEE\n",
      "FlightEvent.RECOVERY_DEVICE_DEPLOYMENT\n",
      "FlightEvent.GROUND_HIT\n",
      "FlightEvent.SIMULATION_END\n"
     ]
    }
   ],
   "source": [
    "for key in trap_events[0].keys():\n",
    "    print(key)"
   ]
  },
  {
   "cell_type": "markdown",
   "id": "dea1a99a",
   "metadata": {},
   "source": [
    "Saving events"
   ]
  },
  {
   "cell_type": "code",
   "execution_count": 61,
   "id": "e7c75901",
   "metadata": {},
   "outputs": [],
   "source": [
    "def event_writer(events: list, path: str):\n",
    "    with open(path, 'w', newline='') as file:\n",
    "        writer = csv.writer(file)\n",
    "        writer.writerow(['Launch', \n",
    "                         'Ignition', \n",
    "                         'Liftoff', \n",
    "                         'Launchrod Exit', \n",
    "                         'Burnout', \n",
    "                         'Apogee', \n",
    "                         'Drogue Deploy', \n",
    "                         'Main Deploy', \n",
    "                         'Ground Hit', \n",
    "                         'Simulation End'])\n",
    "\n",
    "        for results in events:\n",
    "            row = []\n",
    "            for value in results.values():\n",
    "                for element in value:\n",
    "                    row.append(element)\n",
    "            writer.writerow(row)"
   ]
  },
  {
   "cell_type": "code",
   "execution_count": 62,
   "id": "c992c4c0",
   "metadata": {},
   "outputs": [],
   "source": [
    "event_writer(trap_events, './Data Files/Trapezoidal/trap_events.csv')\n",
    "event_writer(ellip_events, './Data Files/Elliptical/ellip_events.csv')\n",
    "event_writer(swept_events, './Data Files/Swept/swept_events.csv')\n",
    "event_writer(tapswept_events, './Data Files/Tapered Swept/tapered_swept_events.csv')"
   ]
  },
  {
   "cell_type": "code",
   "execution_count": null,
   "id": "6431dd06",
   "metadata": {},
   "outputs": [],
   "source": []
  }
 ],
 "metadata": {
  "kernelspec": {
   "display_name": ".venv (3.11.0)",
   "language": "python",
   "name": "python3"
  },
  "language_info": {
   "codemirror_mode": {
    "name": "ipython",
    "version": 3
   },
   "file_extension": ".py",
   "mimetype": "text/x-python",
   "name": "python",
   "nbconvert_exporter": "python",
   "pygments_lexer": "ipython3",
   "version": "3.11.0"
  }
 },
 "nbformat": 4,
 "nbformat_minor": 5
}
